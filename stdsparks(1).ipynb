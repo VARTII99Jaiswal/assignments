{
  "nbformat": 4,
  "nbformat_minor": 0,
  "metadata": {
    "colab": {
      "name": "stdsparks.ipynb",
      "provenance": []
    },
    "kernelspec": {
      "name": "python3",
      "display_name": "Python 3"
    },
    "language_info": {
      "name": "python"
    }
  },
  "cells": [
    {
      "cell_type": "code",
      "metadata": {
        "colab": {
          "base_uri": "https://localhost:8080/"
        },
        "id": "hYVZDieHAvdZ",
        "outputId": "0692cca5-4e7b-4bbb-f256-f4c390fff117"
      },
      "source": [
        "import sys\n",
        "print('Python: {}'.format(sys.version))\n",
        "# scipy\n",
        "import scipy\n",
        "print('scipy: {}'.format(scipy.__version__))\n",
        "# numpy\n",
        "import numpy\n",
        "print('numpy: {}'.format(numpy.__version__))\n",
        "# matplotlib\n",
        "import matplotlib\n",
        "print('matplotlib: {}'.format(matplotlib.__version__))\n",
        "# pandas\n",
        "import pandas\n",
        "print('pandas: {}'.format(pandas.__version__))\n",
        "# scikit-learn\n",
        "import sklearn\n",
        "print('sklearn: {}'.format(sklearn.__version__))\n"
      ],
      "execution_count": 1,
      "outputs": [
        {
          "output_type": "stream",
          "text": [
            "Python: 3.7.11 (default, Jul  3 2021, 18:01:19) \n",
            "[GCC 7.5.0]\n",
            "scipy: 1.4.1\n",
            "numpy: 1.19.5\n",
            "matplotlib: 3.2.2\n",
            "pandas: 1.1.5\n",
            "sklearn: 0.22.2.post1\n"
          ],
          "name": "stdout"
        }
      ]
    },
    {
      "cell_type": "code",
      "metadata": {
        "id": "k-NDEu-wBE3F"
      },
      "source": [
        "import pandas\n",
        "#from pandas.tools.plotting import scatter_matrix\n",
        "import matplotlib.pyplot as plt\n",
        "%matplotlib inline\n",
        "from sklearn.metrics import classification_report\n"
      ],
      "execution_count": 38,
      "outputs": []
    },
    {
      "cell_type": "code",
      "metadata": {
        "colab": {
          "base_uri": "https://localhost:8080/"
        },
        "id": "n9rAPaaLBNac",
        "outputId": "65218161-5c56-4a31-9c6f-b40f1d3c255e"
      },
      "source": [
        "\n",
        "# Load dataset\n",
        "names = ['Hours']\t\t#column names \n",
        "# Reading data from remote link\n",
        "#dataset = pandas.read_csv(\"C:/Users/VARTIKA/Desktop/Student.csv\", names=names)\n",
        "url = \"http://bit.ly/w-data\"\n",
        "dataset = pandas.read_csv(url)\n",
        "# Dimensions of dataset\n",
        "#shape\n",
        "print(dataset.shape) \n",
        "#dataset = numpy.array([2.4, 6.2, 1.8, 9.0]).reshape(-1, 1)\n",
        "print(dataset.head(10))"
      ],
      "execution_count": 32,
      "outputs": [
        {
          "output_type": "stream",
          "text": [
            "(25, 2)\n",
            "   Hours  Scores\n",
            "0    2.5      21\n",
            "1    5.1      47\n",
            "2    3.2      27\n",
            "3    8.5      75\n",
            "4    3.5      30\n",
            "5    1.5      20\n",
            "6    9.2      88\n",
            "7    5.5      60\n",
            "8    8.3      81\n",
            "9    2.7      25\n"
          ],
          "name": "stdout"
        }
      ]
    },
    {
      "cell_type": "code",
      "metadata": {
        "colab": {
          "base_uri": "https://localhost:8080/",
          "height": 425
        },
        "id": "9idn1nI-BbbR",
        "outputId": "8db14938-c430-4452-ff9b-7431ccab5f3a"
      },
      "source": [
        "dataset.plot(kind='box', subplots=True, layout=(2,2), sharex=False, sharey=False)\n",
        "plt.show()\n",
        "\n",
        "dataset.plot(x='Hours', y='Scores', style='o')  \n",
        "plt.title('Hours vs Percentage')  \n",
        "plt.xlabel('Hours Studied')  \n",
        "plt.ylabel('Percentage Score')  \n",
        "plt.show()"
      ],
      "execution_count": 4,
      "outputs": [
        {
          "output_type": "display_data",
          "data": {
            "image/png": "[encoded data removed]",
            "text/plain": [
              "<Figure size 432x288 with 4 Axes>"
            ]
          },
          "metadata": {
            "tags": [],
            "needs_background": "light"
          }
        },
        {
          "output_type": "display_data",
          "data": {
            "image/png": "[encoded data removed]",
            "text/plain": [
              "<Figure size 432x288 with 1 Axes>"
            ]
          },
          "metadata": {
            "tags": [],
            "needs_background": "light"
          }
        }
      ]
    },
    {
      "cell_type": "code",
      "metadata": {
        "colab": {
          "base_uri": "https://localhost:8080/",
          "height": 322
        },
        "id": "b3UGiCf1MNVE",
        "outputId": "df3c2125-c2be-46cd-e342-d4dcb99c0d8b"
      },
      "source": [
        "# Plotting the regression line\n",
        "line = regressor.coef_*X+regressor.intercept_\n",
        "\n",
        "# Plotting for the test data\n",
        "plt.scatter(X, Y)\n",
        "plt.plot(X, line,'Y')\n",
        "plt.show()"
      ],
      "execution_count": 36,
      "outputs": [
        {
          "output_type": "stream",
          "text": [
            "/usr/local/lib/python3.7/dist-packages/ipykernel_launcher.py:6: MatplotlibDeprecationWarning: Support for uppercase single-letter colors is deprecated since Matplotlib 3.1 and will be removed in 3.3; please use lowercase instead.\n",
            "  \n"
          ],
          "name": "stderr"
        },
        {
          "output_type": "display_data",
          "data": {
            "image/png": "[encoded data removed]",
            "text/plain": [
              "<Figure size 432x288 with 1 Axes>"
            ]
          },
          "metadata": {
            "tags": [],
            "needs_background": "light"
          }
        }
      ]
    },
    {
      "cell_type": "code",
      "metadata": {
        "id": "7t1m21M5BkaB"
      },
      "source": [
        "X = dataset.iloc[:, :-1].values  \n",
        "Y = dataset.iloc[:, 1].values\n",
        "\n",
        "from sklearn.model_selection import train_test_split  \n",
        "X_train, X_test, Y_train, Y_test = train_test_split(X, Y, \n",
        "                            test_size=0.2, random_state=0) \n"
      ],
      "execution_count": 5,
      "outputs": []
    },
    {
      "cell_type": "code",
      "metadata": {
        "colab": {
          "base_uri": "https://localhost:8080/"
        },
        "id": "40SQyeUHB8u_",
        "outputId": "1eb0f9fa-6244-4ea2-b68c-5cc4b90d3f18"
      },
      "source": [
        "#prediction of logistic regression#\n",
        "from sklearn.linear_model import LinearRegression  \n",
        "regressor = LinearRegression()  \n",
        "#regressor.fit(x.reshape(-1, 1), y)\n",
        "regressor.fit(X_train, Y_train) "
      ],
      "execution_count": 6,
      "outputs": [
        {
          "output_type": "execute_result",
          "data": {
            "text/plain": [
              "LinearRegression(copy_X=True, fit_intercept=True, n_jobs=None, normalize=False)"
            ]
          },
          "metadata": {
            "tags": []
          },
          "execution_count": 6
        }
      ]
    },
    {
      "cell_type": "code",
      "metadata": {
        "colab": {
          "base_uri": "https://localhost:8080/"
        },
        "id": "PjN9TIPmEa2z",
        "outputId": "6536dbb7-ed55-430b-e9da-9acbcf6a32b8"
      },
      "source": [
        "#best value of intercept\n",
        "print(regressor.intercept_)"
      ],
      "execution_count": 7,
      "outputs": [
        {
          "output_type": "stream",
          "text": [
            "2.018160041434662\n"
          ],
          "name": "stdout"
        }
      ]
    },
    {
      "cell_type": "code",
      "metadata": {
        "colab": {
          "base_uri": "https://localhost:8080/"
        },
        "id": "qGH9WTPtEmdp",
        "outputId": "17c00471-a13f-4253-ffee-ed641450c865"
      },
      "source": [
        "#for retrieving the slope\n",
        "print(regressor.coef_)"
      ],
      "execution_count": 8,
      "outputs": [
        {
          "output_type": "stream",
          "text": [
            "[9.91065648]\n"
          ],
          "name": "stdout"
        }
      ]
    },
    {
      "cell_type": "code",
      "metadata": {
        "colab": {
          "base_uri": "https://localhost:8080/",
          "height": 206
        },
        "id": "2_72jNDlE05W",
        "outputId": "ad8ba4a0-b20b-4628-93d7-24ea79f8635e"
      },
      "source": [
        "#predicting the dataset and comparing with actual value\n",
        "y_pred = regressor.predict(X_test)\n",
        "df = pandas.DataFrame({'Actual': Y_test, 'Predicted': y_pred})\n",
        "df"
      ],
      "execution_count": 24,
      "outputs": [
        {
          "output_type": "execute_result",
          "data": {
            "text/html": [
              "<div>\n",
              "<style scoped>\n",
              "    .dataframe tbody tr th:only-of-type {\n",
              "        vertical-align: middle;\n",
              "    }\n",
              "\n",
              "    .dataframe tbody tr th {\n",
              "        vertical-align: top;\n",
              "    }\n",
              "\n",
              "    .dataframe thead th {\n",
              "        text-align: right;\n",
              "    }\n",
              "</style>\n",
              "<table border=\"1\" class=\"dataframe\">\n",
              "  <thead>\n",
              "    <tr style=\"text-align: right;\">\n",
              "      <th></th>\n",
              "      <th>Actual</th>\n",
              "      <th>Predicted</th>\n",
              "    </tr>\n",
              "  </thead>\n",
              "  <tbody>\n",
              "    <tr>\n",
              "      <th>0</th>\n",
              "      <td>20</td>\n",
              "      <td>16.884145</td>\n",
              "    </tr>\n",
              "    <tr>\n",
              "      <th>1</th>\n",
              "      <td>27</td>\n",
              "      <td>33.732261</td>\n",
              "    </tr>\n",
              "    <tr>\n",
              "      <th>2</th>\n",
              "      <td>69</td>\n",
              "      <td>75.357018</td>\n",
              "    </tr>\n",
              "    <tr>\n",
              "      <th>3</th>\n",
              "      <td>30</td>\n",
              "      <td>26.794801</td>\n",
              "    </tr>\n",
              "    <tr>\n",
              "      <th>4</th>\n",
              "      <td>62</td>\n",
              "      <td>60.491033</td>\n",
              "    </tr>\n",
              "  </tbody>\n",
              "</table>\n",
              "</div>"
            ],
            "text/plain": [
              "   Actual  Predicted\n",
              "0      20  16.884145\n",
              "1      27  33.732261\n",
              "2      69  75.357018\n",
              "3      30  26.794801\n",
              "4      62  60.491033"
            ]
          },
          "metadata": {
            "tags": []
          },
          "execution_count": 24
        }
      ]
    },
    {
      "cell_type": "code",
      "metadata": {
        "colab": {
          "base_uri": "https://localhost:8080/"
        },
        "id": "ImdmOhElOMw5",
        "outputId": "eba8e96f-6974-4ed5-c932-d886d9cf0bed"
      },
      "source": [
        "#predicted 9.25 hours\n",
        "our_pred = regressor.predict([[9.25]])\n",
        "print(our_pred)"
      ],
      "execution_count": 46,
      "outputs": [
        {
          "output_type": "stream",
          "text": [
            "[93.69173249]\n"
          ],
          "name": "stdout"
        }
      ]
    },
    {
      "cell_type": "code",
      "metadata": {
        "colab": {
          "base_uri": "https://localhost:8080/"
        },
        "id": "aDVwM4yLFWAn",
        "outputId": "f69c1c97-4713-4c3a-e935-b7789bb638cb"
      },
      "source": [
        "from sklearn import metrics\n",
        "print('Mean Absolute Error:', metrics.mean_absolute_error(Y_test, y_pred))\n",
        "print('Mean Squared Error:', metrics.mean_squared_error(Y_test, y_pred))\n",
        "print('Root Mean Squared Error:', numpy.sqrt(metrics.mean_squared_error(Y_test, y_pred)))"
      ],
      "execution_count": 25,
      "outputs": [
        {
          "output_type": "stream",
          "text": [
            "Mean Absolute Error: 4.183859899002982\n",
            "Mean Squared Error: 21.598769307217456\n",
            "Root Mean Squared Error: 4.647447612100373\n"
          ],
          "name": "stdout"
        }
      ]
    },
    {
      "cell_type": "code",
      "metadata": {
        "colab": {
          "base_uri": "https://localhost:8080/"
        },
        "id": "CAtKPa6mG5l1",
        "outputId": "d410c669-a4c4-4092-db40-fd810fe6d94c"
      },
      "source": [
        "from sklearn.tree import DecisionTreeClassifier\n",
        "classifier = DecisionTreeClassifier()\n",
        "classifier.fit(X_train, Y_train)"
      ],
      "execution_count": 26,
      "outputs": [
        {
          "output_type": "execute_result",
          "data": {
            "text/plain": [
              "DecisionTreeClassifier(ccp_alpha=0.0, class_weight=None, criterion='gini',\n",
              "                       max_depth=None, max_features=None, max_leaf_nodes=None,\n",
              "                       min_impurity_decrease=0.0, min_impurity_split=None,\n",
              "                       min_samples_leaf=1, min_samples_split=2,\n",
              "                       min_weight_fraction_leaf=0.0, presort='deprecated',\n",
              "                       random_state=None, splitter='best')"
            ]
          },
          "metadata": {
            "tags": []
          },
          "execution_count": 26
        }
      ]
    },
    {
      "cell_type": "code",
      "metadata": {
        "id": "q3E_GlFWHIfP"
      },
      "source": [
        "y_pred = classifier.predict(X_test)"
      ],
      "execution_count": 18,
      "outputs": []
    },
    {
      "cell_type": "code",
      "metadata": {
        "colab": {
          "base_uri": "https://localhost:8080/"
        },
        "id": "qKwplw3xHm0R",
        "outputId": "909d2571-ef5e-4ee3-b24f-6b49a7ca2f92"
      },
      "source": [
        "from sklearn import metrics\n",
        "print('Mean Absolute Error:', metrics.mean_absolute_error(Y_test, y_pred))\n",
        "print('Mean Squared Error:', metrics.mean_squared_error(Y_test, y_pred))\n",
        "print('Root Mean Squared Error:', numpy.sqrt(metrics.mean_squared_error(Y_test, y_pred)))"
      ],
      "execution_count": 22,
      "outputs": [
        {
          "output_type": "stream",
          "text": [
            "Mean Absolute Error: 9.6\n",
            "Mean Squared Error: 119.2\n",
            "Root Mean Squared Error: 10.917875251164945\n"
          ],
          "name": "stdout"
        }
      ]
    },
    {
      "cell_type": "code",
      "metadata": {
        "id": "8iZS_AllH5ch"
      },
      "source": [
        "#we see that rms value for linear regression is less than decision tree so LR is a better classifier for prediction"
      ],
      "execution_count": null,
      "outputs": []
    }
  ]
}